{
 "cells": [
  {
   "cell_type": "code",
   "execution_count": 9,
   "id": "34de228e",
   "metadata": {},
   "outputs": [
    {
     "name": "stdout",
     "output_type": "stream",
     "text": [
      "共有幾個單字:10\n",
      "\n",
      "每個讚分別出現幾次:\n",
      "\tCheese : 234次\n",
      "\n",
      "\tPizza : 83次\n",
      "\n",
      "\tCoke : 145次\n",
      "\n",
      "\tSteak : 46次\n",
      "\n",
      "\tBurger : 196次\n",
      "\n",
      "\tFries : 76次\n",
      "\n",
      "\tRib : 33次\n",
      "\n",
      "\tTaco : 57次\n",
      "\n",
      "\tPho : 19次\n",
      "\n",
      "\tPotato : 3次\n",
      "\n"
     ]
    }
   ],
   "source": [
    "# Let's read the file, count the unique words and their occurrences\n",
    "\n",
    "file_path = 'C:\\\\Users\\\\Woody\\\\PythonHomeWork_0112s\\\\Basic_data_structure_algorithm\\\\HW2_hash_practice\\\\hw2_data.txt'\n",
    "\n",
    "# Initialize an empty dictionary to hold the word count\n",
    "word_count = {}\n",
    "\n",
    "# Open the file and read line by line\n",
    "with open(file_path, 'r') as file:\n",
    "    for line in file:\n",
    "        # Remove newline character and convert to lowercase for uniformity\n",
    "        word = line.strip()\n",
    "        # If the word is already in the dictionary, increment its count\n",
    "        if word in word_count:\n",
    "            word_count[word] += 1\n",
    "        # Otherwise, add the word to the dictionary with a count of 1\n",
    "        else:\n",
    "            word_count[word] = 1\n",
    "\n",
    "# The number of unique words is the length of the dictionary\n",
    "unique_words_count = len(word_count)\n",
    "print(f\"共有幾個單字:{unique_words_count}\\n\")\n",
    "print(\"每個讚分別出現幾次:\")\n",
    "for i in word_count:\n",
    "    print(f\"\\t{i} : {word_count[i]}次\\n\")\n"
   ]
  },
  {
   "cell_type": "code",
   "execution_count": null,
   "id": "55471d86",
   "metadata": {},
   "outputs": [],
   "source": []
  }
 ],
 "metadata": {
  "kernelspec": {
   "display_name": "Python 3 (ipykernel)",
   "language": "python",
   "name": "python3"
  },
  "language_info": {
   "codemirror_mode": {
    "name": "ipython",
    "version": 3
   },
   "file_extension": ".py",
   "mimetype": "text/x-python",
   "name": "python",
   "nbconvert_exporter": "python",
   "pygments_lexer": "ipython3",
   "version": "3.9.7"
  }
 },
 "nbformat": 4,
 "nbformat_minor": 5
}
