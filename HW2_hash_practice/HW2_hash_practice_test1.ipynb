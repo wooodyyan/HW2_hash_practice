{
 "cells": [
  {
   "cell_type": "code",
   "execution_count": 2,
   "id": "34de228e",
   "metadata": {},
   "outputs": [
    {
     "data": {
      "text/plain": [
       "(10,\n",
       " {'cheese': 234,\n",
       "  'pizza': 83,\n",
       "  'coke': 145,\n",
       "  'steak': 46,\n",
       "  'burger': 196,\n",
       "  'fries': 76,\n",
       "  'rib': 33,\n",
       "  'taco': 57,\n",
       "  'pho': 19,\n",
       "  'potato': 3})"
      ]
     },
     "execution_count": 2,
     "metadata": {},
     "output_type": "execute_result"
    }
   ],
   "source": [
    "# Let's read the file, count the unique words and their occurrences\n",
    "\n",
    "file_path = 'C:\\\\Users\\\\Woody\\\\PythonHomeWork_0112s\\\\Basic_data_structure_algorithm\\\\HW2_hash_practice\\\\hw2_data.txt'\n",
    "\n",
    "# Initialize an empty dictionary to hold the word count\n",
    "word_count = {}\n",
    "\n",
    "# Open the file and read line by line\n",
    "with open(file_path, 'r') as file:\n",
    "    for line in file:\n",
    "        # Remove newline character and convert to lowercase for uniformity\n",
    "        word = line.strip().lower()\n",
    "        # If the word is already in the dictionary, increment its count\n",
    "        if word in word_count:\n",
    "            word_count[word] += 1\n",
    "        # Otherwise, add the word to the dictionary with a count of 1\n",
    "        else:\n",
    "            word_count[word] = 1\n",
    "\n",
    "# The number of unique words is the length of the dictionary\n",
    "unique_words_count = len(word_count)\n",
    "unique_words_count, word_count\n"
   ]
  },
  {
   "cell_type": "code",
   "execution_count": null,
   "id": "55471d86",
   "metadata": {},
   "outputs": [],
   "source": []
  }
 ],
 "metadata": {
  "kernelspec": {
   "display_name": "Python 3 (ipykernel)",
   "language": "python",
   "name": "python3"
  },
  "language_info": {
   "codemirror_mode": {
    "name": "ipython",
    "version": 3
   },
   "file_extension": ".py",
   "mimetype": "text/x-python",
   "name": "python",
   "nbconvert_exporter": "python",
   "pygments_lexer": "ipython3",
   "version": "3.9.7"
  }
 },
 "nbformat": 4,
 "nbformat_minor": 5
}
